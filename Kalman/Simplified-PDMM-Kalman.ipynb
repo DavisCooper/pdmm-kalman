{
 "cells": [
  {
   "cell_type": "code",
   "execution_count": null,
   "metadata": {
    "collapsed": true
   },
   "outputs": [],
   "source": [
    "import autograd.numpy as np\n",
    "from autograd import grad\n",
    "from autograd.numpy import linalg, dot\n",
    "from autograd.numpy.random import multivariate_normal, normal\n",
    "%matplotlib inline\n",
    "from matplotlib import pyplot as plt\n",
    "\n",
    "from ChainNode import ChainNode\n",
    "from Neighbour import Neighbour "
   ]
  },
  {
   "cell_type": "code",
   "execution_count": null,
   "metadata": {},
   "outputs": [],
   "source": [
    "#initialise parameters\n",
    "N = 20 # Number of iterations\n",
    "M = 2 # dimensionality of state\n",
    "L = 2 # dimensionality of output\n",
    "e = 1e-5 # convergence condition\n",
    "\n",
    "#Kalman Parameters, linear motion estimation\n",
    "t_s = 0.1 # sample period\n",
    "s_p = 1 # process noise variance\n",
    "s_m = 0.1 # measurement noise variance\n",
    "\n",
    "#model parameters\n",
    "A = np.asarray([[1,t_s],[0,1]]) # state transition\n",
    "B = np.eye(M)\n",
    "C = np.eye(M)\n",
    "Q = np.asarray([[0.5,0.1],[0.1,0.5]])\n",
    "R = np.asarray([[0.5,0.1],[0.1,0.5]])\n",
    "\n",
    "#state variables\n",
    "u = multivariate_normal(np.zeros([2]),Q).reshape([2,1])\n",
    "z = np.asarray([[1],[1]]) # initial statev\n",
    "v = multivariate_normal(np.zeros([2]),R).reshape([2,1])\n",
    "y = np.dot(C,z) + v #initial output\n",
    "\n",
    "#Kalman filter variables \n",
    "P_init = np.asarray([[0.5,0.1],[0.1,0.5]])\n",
    "\n",
    "P_post = np.copy(P_init)\n",
    "z_post = normal(0,1,[2,1])\n",
    "z_post = z\n",
    "\n",
    "#PDMM Parameters\n",
    "Z = z # state history\n",
    "U = u # noise history\n",
    "Y = y # output history\n",
    "\n",
    "Z_post = z_post #posterior estimate history\n",
    "\n",
    "# E = linalg.inv(np.block([[Q,np.zeros(M,M)],[np.zeros([M,M]),R]]))\n",
    "p = 0.001 #step size"
   ]
  },
  {
   "cell_type": "code",
   "execution_count": null,
   "metadata": {
    "scrolled": true
   },
   "outputs": [],
   "source": [
    "# Run kalman simulation\n",
    "for i in range(N):\n",
    "    \n",
    "    z_prior = dot(A,z_post) \n",
    "    P_prior = dot(A,dot(P_post,A.T)) + Q\n",
    "    \n",
    "    u = multivariate_normal(np.zeros([2]),Q).reshape([2,1])\n",
    "    v = multivariate_normal(np.zeros([2]),R).reshape([2,1])\n",
    "    z = np.dot(A,z) + u\n",
    "    y = np.dot(C,z) + v\n",
    "    \n",
    "    #Perform Kalman filtering, General equation needed for numerical stability\n",
    "    K_int = linalg.inv(dot(C,dot(P_prior,C.T) + R))\n",
    "    K = dot(P_prior,dot(C.T,K_int))\n",
    "    z_post = z_prior + dot(K,(y - dot(C,z_prior)))\n",
    "    P_int = np.eye(2) - dot(L,C)\n",
    "    P_post = dot(dot(P_int,P_prior),P_int.T) + dot(K,dot(R,K.T))\n",
    "    \n",
    "    #add new information to history\n",
    "    Z = np.append(Z,z,axis=1)\n",
    "    Z_post = np.append(Z_post,z_post,axis=1)\n",
    "    U = np.append(U,u,axis=1)\n",
    "    Y = np.append(Y,y,axis=1)"
   ]
  },
  {
   "cell_type": "code",
   "execution_count": null,
   "metadata": {},
   "outputs": [],
   "source": [
    "# Initialise PDMM Graph\n",
    "Q_inv = linalg.inv(Q)\n",
    "R_int = dot(C.T,dot(linalg.inv(R),C))\n",
    "P_inv = linalg.inv(P_init)\n",
    "a_int = dot(linalg.inv(R),C)\n",
    "\n",
    "N_dim = 4\n",
    "msg_dim = 2\n",
    "p = 5e-3\n",
    "d = 1e-15\n",
    "N_max = 1e4\n",
    "\n",
    "E = np.block([[Q_inv,np.zeros([2,2])],[np.zeros([2,2]),R_int]])\n",
    "E_0 = np.block([[Q_inv,np.zeros([2,2])],[np.zeros([2,2]),R_int + P_inv]]) \n",
    "a_0 = np.block([np.zeros([1,2]),dot(Y[:,0],a_int)]).T\n",
    "\n",
    "G = [ChainNode(0,N_dim,E,a_0,p,d,N_max)] \n",
    "\n",
    "#initialise nodes\n",
    "for i in np.arange(N-1)+1:\n",
    "    a_i = np.block([np.zeros([1,2]),dot(Y[:,i],a_int)]).T\n",
    "    G.append(ChainNode(i,N_dim,E,a_i,p,d,N_max))\n",
    "\n",
    "c_ij = np.zeros([2,1]) \n",
    "    \n",
    "#insert forward neighbours\n",
    "A_forward = np.block([-B,-A])\n",
    "A_backward = np.block([np.zeros([2,2]),np.eye(2)])\n",
    "\n",
    "P_ij = dot(A_forward,dot(linalg.inv(E_0),A_forward.T))\n",
    "forward_neighbour = Neighbour(G[1],1,A_forward,c_ij,P_ij,msg_dim)\n",
    "G[0].Neighbours.append(forward_neighbour)\n",
    "\n",
    "for i in np.arange(1,N-1):\n",
    "    \n",
    "    backward_neighbour = Neighbour(G[i-1],i-1,A_backward,c_ij,P_ij,msg_dim)\n",
    "    G[i].Neighbours.append(backward_neighbour)\n",
    "    \n",
    "    P_ij_int = linalg.inv(G[i].E + dot(A_backward.T,dot(linalg.inv(P_ij),A_backward)))\n",
    "    P_ij = dot(A_forward,dot(P_ij_int,A_forward.T))\n",
    "    forward_neighbour = Neighbour(G[i+1],i+1,A_forward,c_ij,P_ij,msg_dim)\n",
    "    G[i].Neighbours.append(forward_neighbour)\n",
    "\n",
    "P_ij_int = linalg.inv(G[i].E + dot(A_backward.T,dot(linalg.inv(P_ij),A_backward)))\n",
    "P_ij = dot(A_forward,dot(P_ij_int,A_forward.T))\n",
    "backward_neighbour = Neighbour(G[N-2],N-2,A_backward,c_ij,P_ij,msg_dim)\n",
    "G[N-1].Neighbours.append(backward_neighbour)"
   ]
  },
  {
   "cell_type": "code",
   "execution_count": null,
   "metadata": {
    "scrolled": true
   },
   "outputs": [],
   "source": [
    "# Run Synchronous PDMM\n",
    "X = []\n",
    "x = []\n",
    "for node in G:\n",
    "    x.append(node.x)\n",
    "X.append(x)\n",
    "\n",
    "N_iter = 21\n",
    "for i in range(N_iter):\n",
    "    print(i)\n",
    "    for node in G:\n",
    "        node.update()\n",
    "\n",
    "    for node in G:\n",
    "        node.finalise()\n",
    "        \n",
    "    x = []\n",
    "    for node in G:\n",
    "        x.append(node.x)\n",
    "    X.append(x)"
   ]
  },
  {
   "cell_type": "code",
   "execution_count": null,
   "metadata": {
    "collapsed": true
   },
   "outputs": [],
   "source": [
    "#collect messages\n",
    "Z_pdmm = []\n",
    "for i in range(N):\n",
    "    Z_pdmm.append(G[i].Neighbours[0].m_ij)\n",
    "Z_pdmm = np.asarray(Z_pdmm).reshape(N,2)"
   ]
  },
  {
   "cell_type": "code",
   "execution_count": null,
   "metadata": {
    "collapsed": true
   },
   "outputs": [],
   "source": [
    "X = np.asarray(X).reshape([N_iter+1,N,N_dim])"
   ]
  },
  {
   "cell_type": "code",
   "execution_count": null,
   "metadata": {},
   "outputs": [],
   "source": [
    "plt.figure(figsize=(15,10))\n",
    "l1, = plt.plot(Z[0,:],'x-',label='True State')\n",
    "l2, = plt.plot(Z_post[0,:].T,'x-',label='Kalman Filter')\n",
    "l3, = plt.plot(X[N_iter,:,2],'x-',label='Synchronous PDMM')\n",
    "plt.xlabel('Iteration',fontsize=20)\n",
    "plt.ylabel('Position',fontsize=20)\n",
    "plt.title('Kalman Filter and PDMM Comparison',fontsize=20)\n",
    "plt.legend(handles=[l1,l2,l3],fontsize=20)"
   ]
  },
  {
   "cell_type": "code",
   "execution_count": null,
   "metadata": {
    "scrolled": false
   },
   "outputs": [],
   "source": [
    "for j in range(N):\n",
    "    plt.figure(figsize=(7,5))\n",
    "    for i in range(N_dim):\n",
    "        plt.plot(X[:,j,i],'x-')\n",
    "        plt.plot((N_iter+1)*[Z_post[0,j]])\n",
    "        plt.plot((N_iter+1)*[Z_post[1,j]])"
   ]
  }
 ],
 "metadata": {
  "kernelspec": {
   "display_name": "Python 3",
   "language": "python",
   "name": "python3"
  },
  "language_info": {
   "codemirror_mode": {
    "name": "ipython",
    "version": 3
   },
   "file_extension": ".py",
   "mimetype": "text/x-python",
   "name": "python",
   "nbconvert_exporter": "python",
   "pygments_lexer": "ipython3",
   "version": "3.6.1"
  }
 },
 "nbformat": 4,
 "nbformat_minor": 2
}
