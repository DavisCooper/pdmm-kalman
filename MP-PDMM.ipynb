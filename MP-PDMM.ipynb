{
 "cells": [
  {
   "cell_type": "code",
   "execution_count": 54,
   "metadata": {
    "collapsed": true
   },
   "outputs": [],
   "source": [
    "#This notebook examines using the Message passing PDMM Algorithm\n",
    "import autograd.numpy as np\n",
    "from autograd.numpy import linalg, dot\n",
    "from autograd.numpy.random import multivariate_normal, normal\n",
    "%matplotlib inline\n",
    "from matplotlib import pyplot as plt\n",
    "from Node import Node\n",
    "from Neighbour import Neighbour "
   ]
  },
  {
   "cell_type": "code",
   "execution_count": 55,
   "metadata": {},
   "outputs": [],
   "source": [
    "# Initialise PDMM Graph\n",
    "\n",
    "N_nodes = 100;\n",
    "N_dim = 100\n",
    "msg_dim = 2\n",
    "E = np.eye(N_dim)\n",
    "A_ij = np.eye(N_dim)\n",
    "A_ji = -np.eye(N_dim)\n",
    "c_ij = np.zeros([N_dim,1])\n",
    "\n",
    "x = normal(0,1,[N_nodes,N_dim])\n",
    "t = normal(0,1,[N_nodes,N_dim])\n",
    "\n",
    "P_ij = dot(A_ij,dot(E,A_ij.T))\n",
    "a = t[0].reshape(N_dim,1)\n",
    "m_int = linalg.inv(E + dot(A_ij,dot(linalg.inv(E),A_ij.T)))\n",
    "m_ij = c_ij - 2*dot(dot(A_ij,m_int),a)\n",
    "P_ji = np.copy(P_ij)\n",
    "\n",
    "for i in np.arange(N_nodes-1)+1:\n",
    "    P_ij_int = linalg.inv(E + dot(A_ji.T,dot(linalg.inv(P_ij),A_ji)))\n",
    "    P_ij = dot(A_ij,dot(P_ij_int,A_ij.T))\n",
    "    a = t[i].reshape(N_dim,1)\n",
    "    m_int = linalg.inv(E + \n",
    "                       dot(A_ij,dot(linalg.inv(P_ij),A_ij.T)) + \n",
    "                       dot(A_ji,dot(linalg.inv(P_ji),A_ji.T)))\n",
    "    a_int = a + dot(A_ji.T,dot(linalg.inv(P_ji),m_ij))\n",
    "    m_ij = c_ij - 2*dot(dot(A_ij,m_int),a_int)\n",
    "    P_ji = np.copy(P_ij)\n"
   ]
  },
  {
   "cell_type": "code",
   "execution_count": 66,
   "metadata": {},
   "outputs": [
    {
     "name": "stdout",
     "output_type": "stream",
     "text": [
      "-1.23056946577e-16\n"
     ]
    }
   ],
   "source": [
    "print(np.sum(np.mean(t,axis=0).reshape([N_dim,1])+m_ij))"
   ]
  }
 ],
 "metadata": {
  "kernelspec": {
   "display_name": "Python 3",
   "language": "python",
   "name": "python3"
  },
  "language_info": {
   "codemirror_mode": {
    "name": "ipython",
    "version": 3
   },
   "file_extension": ".py",
   "mimetype": "text/x-python",
   "name": "python",
   "nbconvert_exporter": "python",
   "pygments_lexer": "ipython3",
   "version": "3.6.1"
  }
 },
 "nbformat": 4,
 "nbformat_minor": 2
}
