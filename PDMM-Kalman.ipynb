{
 "cells": [
  {
   "cell_type": "code",
   "execution_count": null,
   "metadata": {
    "collapsed": true
   },
   "outputs": [],
   "source": [
    "import autograd.numpy as np\n",
    "from autograd import grad\n",
    "from autograd.numpy import linalg\n",
    "from autograd.numpy.random import multivariate_normal, normal"
   ]
  },
  {
   "cell_type": "code",
   "execution_count": null,
   "metadata": {
    "collapsed": true
   },
   "outputs": [],
   "source": [
    "#initialise parameters\n",
    "N = 100 # Number of iterations\n",
    "M = 5 # dimensionality of state\n",
    "e = 1e-5 # convergence condition\n",
    "\n",
    "R = [] # Process noise Covariance\n",
    "Q = [] # Measurement Noise\n",
    "z = [] # initial state\n",
    "A = [] # state transition\n",
    "B = [] # noise matrix\n",
    "C = [] # observation matrix\n",
    "\n",
    "y = []\n",
    "E = linalg.inv(np.block([[Q,np.zeros(M,M)],[np.zeros([M,M]),R]]))\n",
    "p = 0.001"
   ]
  },
  {
   "cell_type": "code",
   "execution_count": null,
   "metadata": {
    "collapsed": true
   },
   "outputs": [],
   "source": [
    "def ml_gradient_desc():\n",
    "    #initial guesses\n",
    "    z = normal(0,1,[M,1])\n",
    "    u = normal(0,1,[M,1])\n",
    "    step_dir = grad(ml_cost)\n",
    "    error = 1\n",
    "    #iterate till desired precision reached\n",
    "    while error > e:\n",
    "        #perform gradient descent\n",
    "        x = step_dir(z,u)\n",
    "        error = linalg.norm(p*x)\n",
    "        z = z + p*x[:M] \n",
    "        u = u + p*x[M:]\n",
    "    \n",
    "    #create next estimate\n",
    "    z_next = np.dot(A,z) + np.dot(B,u)\n",
    "    return z_next, z, u"
   ]
  },
  {
   "cell_type": "code",
   "execution_count": null,
   "metadata": {
    "collapsed": true
   },
   "outputs": [],
   "source": [
    "def ml_cost(z,u):\n",
    "    x = np.block([u,y-np.dot(C,z)])\n",
    "    return np.dot(np.dot(x,E),x.T)"
   ]
  },
  {
   "cell_type": "code",
   "execution_count": null,
   "metadata": {
    "collapsed": true
   },
   "outputs": [],
   "source": [
    "for i in range(N):\n",
    "    u = multivariate_normal(np.zeros(M),Q).T\n",
    "    v = multivariate_normal(np.zeros(M),R).T\n",
    "    z = np.dot(A,z) + np.dot(B,u)\n",
    "    y = np.dot(C,u) + v\n",
    "    \n",
    "    #perform PDMM estimation\n",
    "    z_new, ml_gradient_desc()\n",
    "    #perform Kalman estimation\n",
    "    \n",
    "    "
   ]
  }
 ],
 "metadata": {
  "kernelspec": {
   "display_name": "Python 3",
   "language": "python",
   "name": "python3"
  },
  "language_info": {
   "codemirror_mode": {
    "name": "ipython",
    "version": 3
   },
   "file_extension": ".py",
   "mimetype": "text/x-python",
   "name": "python",
   "nbconvert_exporter": "python",
   "pygments_lexer": "ipython3",
   "version": "3.6.1"
  }
 },
 "nbformat": 4,
 "nbformat_minor": 2
}
