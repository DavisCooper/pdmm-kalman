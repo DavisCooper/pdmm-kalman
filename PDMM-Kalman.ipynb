{
 "cells": [
  {
   "cell_type": "code",
   "execution_count": 130,
   "metadata": {
    "collapsed": true
   },
   "outputs": [],
   "source": [
    "import autograd.numpy as np\n",
    "from autograd import grad\n",
    "from autograd.numpy import linalg\n",
    "from autograd.numpy.random import multivariate_normal, normal\n",
    "%matplotlib inline\n",
    "from matplotlib import pyplot as plt"
   ]
  },
  {
   "cell_type": "code",
   "execution_count": 131,
   "metadata": {},
   "outputs": [],
   "source": [
    "#initialise parameters\n",
    "N = 10 # Number of iterations\n",
    "M = 2 # dimensionality of state\n",
    "L = 2 # dimensionality of output\n",
    "e = 1e-5 # convergence condition\n",
    "\n",
    "#Kalman Parameters, linear motion estimation\n",
    "t_s = 0.1 #sample period\n",
    "s_p = 1 #process noise variance\n",
    "\n",
    "A = np.asarray([[1,t_s],[0,1]]) # state transition\n",
    "B = np.asarray([[np.power(t_s,2)/2],[t_s]]) # noise matrix\n",
    "C = np.asarray([0,1]) # observation matrix\n",
    "Q = np.asarray([[s_p/64,s_p/16],[s_p/16,s_p/4]]) # Process noise Covariance\n",
    "R = np.asarray([[0.01,0.005],[0.005,0.01]]) # Measurement Noise\n",
    "\n",
    "u = normal(0,s_p,1).T\n",
    "z = np.asarray([[1],[1]]) + np.dot(B,u) # initial state\n",
    "v = multivariate_normal(np.zeros(M),R).T #measurement noise\n",
    "y = np.dot(C,z) + v #initial output\n",
    "\n",
    "#PDMM Parameters\n",
    "Z = z # state history\n",
    "U = u # noise history\n",
    "Y = y # output history\n",
    "# E = linalg.inv(np.block([[Q,np.zeros(M,M)],[np.zeros([M,M]),R]]))\n",
    "p = 0.001 #step size"
   ]
  },
  {
   "cell_type": "code",
   "execution_count": 132,
   "metadata": {
    "collapsed": true
   },
   "outputs": [],
   "source": [
    "def ml_gradient_desc():\n",
    "    #initial guesses\n",
    "    z = normal(0,1,[M,1])\n",
    "    u = normal(0,1,[M,1])\n",
    "    step_dir = grad(ml_cost)\n",
    "    error = 1\n",
    "    #iterate till desired precision reached\n",
    "    while error > e:\n",
    "        #perform gradient descent\n",
    "        x = step_dir(z,u)\n",
    "        error = linalg.norm(p*x)\n",
    "        z = z + p*x[:M] \n",
    "        u = u + p*x[M:]\n",
    "    \n",
    "    #create next estimate\n",
    "    z_next = np.dot(A,z) + np.dot(B,u)\n",
    "    return z_next, z, u"
   ]
  },
  {
   "cell_type": "code",
   "execution_count": 133,
   "metadata": {
    "collapsed": true
   },
   "outputs": [],
   "source": [
    "def ml_cost(z,u):\n",
    "    x = np.block([u,y-np.dot(C,z)])\n",
    "    return np.dot(np.dot(x,E),x.T)"
   ]
  },
  {
   "cell_type": "code",
   "execution_count": 134,
   "metadata": {},
   "outputs": [],
   "source": [
    "# Run kalman simulation\n",
    "for i in range(N):\n",
    "    u = normal(0,s_p,1).T\n",
    "    v = multivariate_normal(np.zeros(M),R).T\n",
    "    z = np.dot(A,z) + np.dot(B,u)\n",
    "    y = np.dot(C,z) + v\n",
    "    \n",
    "    Z = np.append(Z,z,axis=1)\n",
    "    U = np.append(U,u)\n",
    "    Y = np.append(Y,y)\n",
    "    \n",
    "    #perform PDMM estimation\n",
    "#     z_new, ml_gradient_desc()\n",
    "    #perform Kalman estimation"
   ]
  },
  {
   "cell_type": "code",
   "execution_count": 137,
   "metadata": {},
   "outputs": [
    {
     "data": {
      "text/plain": [
       "[<matplotlib.lines.Line2D at 0x1108fc828>]"
      ]
     },
     "execution_count": 137,
     "metadata": {},
     "output_type": "execute_result"
    },
    {
     "data": {
      "image/png": "[encoded data removed]",
      "text/plain": [
       "<matplotlib.figure.Figure at 0x1108fc898>"
      ]
     },
     "metadata": {},
     "output_type": "display_data"
    }
   ],
   "source": [
    "plt.plot(Y)\n",
    "plt.plot(Z[1,:])"
   ]
  }
 ],
 "metadata": {
  "kernelspec": {
   "display_name": "Python 3",
   "language": "python",
   "name": "python3"
  },
  "language_info": {
   "codemirror_mode": {
    "name": "ipython",
    "version": 3
   },
   "file_extension": ".py",
   "mimetype": "text/x-python",
   "name": "python",
   "nbconvert_exporter": "python",
   "pygments_lexer": "ipython3",
   "version": "3.6.1"
  }
 },
 "nbformat": 4,
 "nbformat_minor": 2
}
