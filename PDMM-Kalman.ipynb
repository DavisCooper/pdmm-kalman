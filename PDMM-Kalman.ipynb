{
 "cells": [
  {
   "cell_type": "code",
   "execution_count": null,
   "metadata": {
    "collapsed": true
   },
   "outputs": [],
   "source": [
    "import autograd.numpy as np\n",
    "from autograd import grad\n",
    "from autograd.numpy import linalg, dot\n",
    "from autograd.numpy.random import multivariate_normal, normal\n",
    "%matplotlib inline\n",
    "from matplotlib import pyplot as plt"
   ]
  },
  {
   "cell_type": "code",
   "execution_count": null,
   "metadata": {
    "collapsed": true
   },
   "outputs": [],
   "source": [
    "#initialise parameters\n",
    "N = 100 # Number of iterations\n",
    "M = 2 # dimensionality of state\n",
    "L = 2 # dimensionality of output\n",
    "e = 1e-5 # convergence condition\n",
    "\n",
    "#Kalman Parameters, linear motion estimation\n",
    "t_s = 0.1 # sample period\n",
    "s_p = 1 # process noise variance\n",
    "s_m = 0.1 # measurement noise variance\n",
    "\n",
    "#model parameters\n",
    "A = np.asarray([[1,t_s],[0,1]]) # state transition\n",
    "B = np.asarray([[np.power(t_s,2)/2],[t_s]]) # noise matrix\n",
    "C = np.asarray([[0,1]]) # observation matrix\n",
    "Q = np.asarray([[s_p/64,s_p/16],[s_p/16,s_p/4]]) # Process noise Covariance\n",
    "R = np.asarray([[0.1]])\n",
    "\n",
    "#state variables\n",
    "u = normal(0,s_p,[1,1]).T\n",
    "z = np.asarray([[1],[1]]) # initial statev\n",
    "v = normal(0,s_m)\n",
    "y = np.dot(C,z) + v #initial output\n",
    "\n",
    "#Kalman filter variables \n",
    "P_post = Q\n",
    "z_post = normal(0,1,[2,1])\n",
    "z_post = z\n",
    "\n",
    "#PDMM Parameters\n",
    "Z = z # state history\n",
    "U = u # noise history\n",
    "Y = y # output history\n",
    "\n",
    "Z_post = z_post #posterior estimate history\n",
    "\n",
    "# E = linalg.inv(np.block([[Q,np.zeros(M,M)],[np.zeros([M,M]),R]]))\n",
    "p = 0.001 #step size"
   ]
  },
  {
   "cell_type": "code",
   "execution_count": null,
   "metadata": {
    "collapsed": true
   },
   "outputs": [],
   "source": [
    "def ml_gradient_desc():\n",
    "    #initial guesses\n",
    "    z = normal(0,1,[M,1])\n",
    "    u = normal(0,1,[M,1])\n",
    "    step_dir = grad(ml_cost)\n",
    "    error = 1\n",
    "    #iterate till desired precision reached\n",
    "    while error > e:\n",
    "        #perform gradient descent\n",
    "        x = step_dir(z,u)\n",
    "        error = linalg.norm(p*x)\n",
    "        z = z + p*x[:M] \n",
    "        u = u + p*x[M:]\n",
    "    \n",
    "    #create next estimate\n",
    "    z_next = np.dot(A,z) + np.dot(B,u)\n",
    "    return z_next, z, u"
   ]
  },
  {
   "cell_type": "code",
   "execution_count": null,
   "metadata": {
    "collapsed": true
   },
   "outputs": [],
   "source": [
    "def ml_cost(z,u):\n",
    "    x = np.block([u,y-np.dot(C,z)])\n",
    "    return np.dot(np.dot(x,E),x.T)"
   ]
  },
  {
   "cell_type": "code",
   "execution_count": null,
   "metadata": {
    "collapsed": true,
    "scrolled": true
   },
   "outputs": [],
   "source": [
    "# Run kalman simulation\n",
    "for i in range(N):\n",
    "    \n",
    "    z_prior = dot(A,z_post) \n",
    "    P_prior = dot(A,dot(P_post,A.T)) + Q\n",
    "    \n",
    "    u = normal(0,s_p)\n",
    "    v = normal(0,s_m)\n",
    "    z = np.dot(A,z) + np.dot(B,u)\n",
    "    y = np.dot(C,z) + v\n",
    "    \n",
    "    #Perform Kalman filtering, General equation needed for numerical stability\n",
    "    K_int = 1/(dot(C,dot(P_prior,C.T)) + R )\n",
    "    K = dot(P_prior,K_int*C.T)\n",
    "    z_post = z_prior + dot(K,(y - dot(C,z_prior)))\n",
    "    P_int = np.eye(2) - dot(L,C)\n",
    "    P_post = dot(dot(P_int,P_prior),P_int.T) + dot(K,dot(R,K.T))\n",
    "    \n",
    "    #add new information to history\n",
    "    Z = np.append(Z,z,axis=1)\n",
    "    Z_post = np.append(Z_post,z_post,axis=1)\n",
    "    U = np.append(U,u)\n",
    "    Y = np.append(Y,y)"
   ]
  },
  {
   "cell_type": "code",
   "execution_count": null,
   "metadata": {
    "collapsed": true
   },
   "outputs": [],
   "source": [
    "# Create PDMM Graph\n",
    "for i in range(N):"
   ]
  },
  {
   "cell_type": "code",
   "execution_count": null,
   "metadata": {
    "collapsed": true
   },
   "outputs": [],
   "source": [
    "# Run Synchronous PDMM \n",
    "for i in range(N)"
   ]
  },
  {
   "cell_type": "code",
   "execution_count": null,
   "metadata": {},
   "outputs": [],
   "source": [
    "plt.figure(figsize=(15,10))\n",
    "plt.plot(Z[0,:],'x-')\n",
    "plt.plot(Z_post[0,:],'x-')\n",
    "plt.figure(figsize=(15,10))\n",
    "plt.plot(Z[0,1:],'bx-')"
   ]
  }
 ],
 "metadata": {
  "kernelspec": {
   "display_name": "Python 3",
   "language": "python",
   "name": "python3"
  },
  "language_info": {
   "codemirror_mode": {
    "name": "ipython",
    "version": 3
   },
   "file_extension": ".py",
   "mimetype": "text/x-python",
   "name": "python",
   "nbconvert_exporter": "python",
   "pygments_lexer": "ipython3",
   "version": "3.6.1"
  }
 },
 "nbformat": 4,
 "nbformat_minor": 2
}
