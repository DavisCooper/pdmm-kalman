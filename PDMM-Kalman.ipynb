{
 "cells": [
  {
   "cell_type": "code",
   "execution_count": null,
   "metadata": {
    "collapsed": true
   },
   "outputs": [],
   "source": [
    "import numpy as np\n",
    "from numpy.random import multivariate_normal, normal\n",
    "from numpy import linalg"
   ]
  },
  {
   "cell_type": "code",
   "execution_count": 1,
   "metadata": {
    "collapsed": true
   },
   "outputs": [],
   "source": [
    "#initialise parameters\n",
    "N = 100 # Number of iterations\n",
    "M = 5 # dimensionality of state\n",
    "e = 1e-5 # convergence condition\n",
    "\n",
    "R = [] # Process noise Covariance\n",
    "Q = [] # Measurement Noise\n",
    "z = [] # initial state\n",
    "A = [] # state transition\n",
    "B = [] # noise matrix\n",
    "C = [] # observation matrix\n",
    "\n",
    "y = []\n",
    "E = linalg.inv(np.block([[Q,np.zeros(M,M)],[np.zeros([M,M]),R]]))"
   ]
  },
  {
   "cell_type": "code",
   "execution_count": null,
   "metadata": {
    "collapsed": true
   },
   "outputs": [],
   "source": [
    "def pdmm_kalman():\n",
    "    z = normal(0,1,[M,1])\n",
    "    u = normal(0,1,[M,1])\n",
    "    error = 1\n",
    "    while error > e:\n",
    "        ml_cost(z,u)\n",
    "        z_new = z +  \n",
    "        u_new = u + \n",
    "    return "
   ]
  },
  {
   "cell_type": "code",
   "execution_count": null,
   "metadata": {
    "collapsed": true
   },
   "outputs": [],
   "source": [
    "def ml_cost(z,u,y):\n",
    "    x = np.block([u,y-np.dot(C,z)])\n",
    "    return np.dot(np.dot(x,E),x.T)"
   ]
  },
  {
   "cell_type": "code",
   "execution_count": null,
   "metadata": {
    "collapsed": true
   },
   "outputs": [],
   "source": [
    "for i in range(N):\n",
    "    u = multivariate_normal(np.zeros(M),Q).T\n",
    "    v = multivariate_normal(np.zeros(M),R).T\n",
    "    z = np.dot(A,z) + np.dot(B,u)\n",
    "    y = np.dot(C,u) + v\n",
    "    \n",
    "    "
   ]
  }
 ],
 "metadata": {
  "kernelspec": {
   "display_name": "Python 3",
   "language": "python",
   "name": "python3"
  },
  "language_info": {
   "codemirror_mode": {
    "name": "ipython",
    "version": 3
   },
   "file_extension": ".py",
   "mimetype": "text/x-python",
   "name": "python",
   "nbconvert_exporter": "python",
   "pygments_lexer": "ipython3",
   "version": "3.6.1"
  }
 },
 "nbformat": 4,
 "nbformat_minor": 2
}
