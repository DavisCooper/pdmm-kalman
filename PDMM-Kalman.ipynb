{
 "cells": [
  {
   "cell_type": "code",
   "execution_count": 137,
   "metadata": {
    "collapsed": true
   },
   "outputs": [],
   "source": [
    "import autograd.numpy as np\n",
    "from autograd import grad\n",
    "from autograd.numpy import linalg, dot\n",
    "from autograd.numpy.random import multivariate_normal, normal\n",
    "%matplotlib inline\n",
    "from matplotlib import pyplot as plt\n",
    "\n",
    "from ChainNode import ChainNode\n",
    "from Neighbour import Neighbour "
   ]
  },
  {
   "cell_type": "code",
   "execution_count": 138,
   "metadata": {},
   "outputs": [
    {
     "ename": "ValueError",
     "evalue": "size is not compatible with inputs",
     "output_type": "error",
     "traceback": [
      "\u001b[0;31m---------------------------------------------------------------------------\u001b[0m",
      "\u001b[0;31mValueError\u001b[0m                                Traceback (most recent call last)",
      "\u001b[0;32m<ipython-input-138-1a17bd501998>\u001b[0m in \u001b[0;36m<module>\u001b[0;34m()\u001b[0m\n\u001b[1;32m     20\u001b[0m \u001b[0;34m\u001b[0m\u001b[0m\n\u001b[1;32m     21\u001b[0m \u001b[0;31m#state variables\u001b[0m\u001b[0;34m\u001b[0m\u001b[0;34m\u001b[0m\u001b[0m\n\u001b[0;32m---> 22\u001b[0;31m \u001b[0mu\u001b[0m \u001b[0;34m=\u001b[0m \u001b[0mnormal\u001b[0m\u001b[0;34m(\u001b[0m\u001b[0;36m0\u001b[0m\u001b[0;34m,\u001b[0m\u001b[0mQ\u001b[0m\u001b[0;34m,\u001b[0m\u001b[0;34m[\u001b[0m\u001b[0;36m1\u001b[0m\u001b[0;34m,\u001b[0m\u001b[0;36m1\u001b[0m\u001b[0;34m]\u001b[0m\u001b[0;34m)\u001b[0m\u001b[0;34m.\u001b[0m\u001b[0mT\u001b[0m\u001b[0;34m\u001b[0m\u001b[0m\n\u001b[0m\u001b[1;32m     23\u001b[0m \u001b[0mz\u001b[0m \u001b[0;34m=\u001b[0m \u001b[0mnp\u001b[0m\u001b[0;34m.\u001b[0m\u001b[0masarray\u001b[0m\u001b[0;34m(\u001b[0m\u001b[0;34m[\u001b[0m\u001b[0;34m[\u001b[0m\u001b[0;36m1\u001b[0m\u001b[0;34m]\u001b[0m\u001b[0;34m,\u001b[0m\u001b[0;34m[\u001b[0m\u001b[0;36m1\u001b[0m\u001b[0;34m]\u001b[0m\u001b[0;34m]\u001b[0m\u001b[0;34m)\u001b[0m \u001b[0;31m# initial statev\u001b[0m\u001b[0;34m\u001b[0m\u001b[0m\n\u001b[1;32m     24\u001b[0m \u001b[0mv\u001b[0m \u001b[0;34m=\u001b[0m \u001b[0mnormal\u001b[0m\u001b[0;34m(\u001b[0m\u001b[0;36m0\u001b[0m\u001b[0;34m,\u001b[0m\u001b[0mR\u001b[0m\u001b[0;34m)\u001b[0m\u001b[0;34m\u001b[0m\u001b[0m\n",
      "\u001b[0;32m/usr/local/lib/python3.6/site-packages/autograd/core.py\u001b[0m in \u001b[0;36m__call__\u001b[0;34m(self, *args, **kwargs)\u001b[0m\n\u001b[1;32m     79\u001b[0m                 \u001b[0mprogenitors\u001b[0m\u001b[0;34m.\u001b[0m\u001b[0mupdate\u001b[0m\u001b[0;34m(\u001b[0m\u001b[0marg\u001b[0m\u001b[0;34m.\u001b[0m\u001b[0mprogenitors\u001b[0m \u001b[0;34m&\u001b[0m \u001b[0mactive_progenitors\u001b[0m\u001b[0;34m)\u001b[0m\u001b[0;34m\u001b[0m\u001b[0m\n\u001b[1;32m     80\u001b[0m \u001b[0;34m\u001b[0m\u001b[0m\n\u001b[0;32m---> 81\u001b[0;31m         \u001b[0mresult_value\u001b[0m \u001b[0;34m=\u001b[0m \u001b[0mself\u001b[0m\u001b[0;34m.\u001b[0m\u001b[0mfun\u001b[0m\u001b[0;34m(\u001b[0m\u001b[0;34m*\u001b[0m\u001b[0margvals\u001b[0m\u001b[0;34m,\u001b[0m \u001b[0;34m**\u001b[0m\u001b[0mkwargs\u001b[0m\u001b[0;34m)\u001b[0m\u001b[0;34m\u001b[0m\u001b[0m\n\u001b[0m\u001b[1;32m     82\u001b[0m         \u001b[0;32mif\u001b[0m \u001b[0mprogenitors\u001b[0m\u001b[0;34m:\u001b[0m\u001b[0;34m\u001b[0m\u001b[0m\n\u001b[1;32m     83\u001b[0m             \u001b[0;32mreturn\u001b[0m \u001b[0mnew_node\u001b[0m\u001b[0;34m(\u001b[0m\u001b[0mresult_value\u001b[0m\u001b[0;34m,\u001b[0m \u001b[0;34m(\u001b[0m\u001b[0mself\u001b[0m\u001b[0;34m,\u001b[0m \u001b[0margs\u001b[0m\u001b[0;34m,\u001b[0m \u001b[0mkwargs\u001b[0m\u001b[0;34m,\u001b[0m \u001b[0mparents\u001b[0m\u001b[0;34m)\u001b[0m\u001b[0;34m,\u001b[0m \u001b[0mprogenitors\u001b[0m\u001b[0;34m)\u001b[0m\u001b[0;34m\u001b[0m\u001b[0m\n",
      "\u001b[0;32mmtrand.pyx\u001b[0m in \u001b[0;36mmtrand.RandomState.normal (numpy/random/mtrand/mtrand.c:20898)\u001b[0;34m()\u001b[0m\n",
      "\u001b[0;32mmtrand.pyx\u001b[0m in \u001b[0;36mmtrand.cont2_array (numpy/random/mtrand/mtrand.c:7873)\u001b[0;34m()\u001b[0m\n",
      "\u001b[0;31mValueError\u001b[0m: size is not compatible with inputs"
     ]
    }
   ],
   "source": [
    "#initialise parameters\n",
    "N = 10 # Number of iterations\n",
    "M = 2 # dimensionality of state\n",
    "L = 2 # dimensionality of output\n",
    "e = 1e-5 # convergence condition\n",
    "\n",
    "#Kalman Parameters, linear motion estimation\n",
    "t_s = 0.1 # sample period\n",
    "s_p = 1 # process noise variance\n",
    "s_m = 0.1 # measurement noise variance\n",
    "\n",
    "#model parameters\n",
    "A = np.asarray([[1,t_s],[0,1]]) # state transition\n",
    "B = np.asarray([[np.power(t_s,2)/2],[t_s]]) # noise matrix\n",
    "C = np.asarray([[1,1]]) # observation matrix\n",
    "# C = np.eye(2)\n",
    "Q = np.asarray([[s_p/64,s_p/16],[s_p/16,s_p/4]]) # Process noise Covariance\n",
    "# Q = np.asarray([[s_p]])\n",
    "R = np.asarray([[s_m]])\n",
    "\n",
    "#state variables\n",
    "u = normal(0,Q,[1,1]).T\n",
    "z = np.asarray([[1],[1]]) # initial statev\n",
    "v = normal(0,R)\n",
    "y = np.dot(C,z) + v #initial output\n",
    "\n",
    "#Kalman filter variables \n",
    "P_init = np.asarray([[0.5,0.1],[0.1,0.5]])\n",
    "\n",
    "P_post = np.copy(P_init)\n",
    "z_post = normal(0,1,[2,1])\n",
    "z_post = z\n",
    "\n",
    "#PDMM Parameters\n",
    "Z = z # state history\n",
    "U = u # noise history\n",
    "Y = y # output history\n",
    "\n",
    "Z_post = z_post #posterior estimate history\n",
    "\n",
    "# E = linalg.inv(np.block([[Q,np.zeros(M,M)],[np.zeros([M,M]),R]]))\n",
    "p = 0.001 #step size"
   ]
  },
  {
   "cell_type": "code",
   "execution_count": null,
   "metadata": {
    "collapsed": true,
    "scrolled": true
   },
   "outputs": [],
   "source": [
    "# Run kalman simulation\n",
    "for i in range(N):\n",
    "    \n",
    "    z_prior = dot(A,z_post) \n",
    "    P_prior = dot(A,dot(P_post,A.T)) + Q\n",
    "    \n",
    "    u = normal(0,s_p)\n",
    "    v = normal(0,s_m)\n",
    "    z = np.dot(A,z) + np.dot(B,u)\n",
    "    y = np.dot(C,z) + v\n",
    "    \n",
    "    #Perform Kalman filtering, General equation needed for numerical stability\n",
    "    K_int = 1/(C*dot(P_prior,C.T) + R)\n",
    "    K = dot(P_prior,K_int*C.T)\n",
    "    z_post = z_prior + K*(y - dot(C,z_prior))\n",
    "    P_int = np.eye(2) - dot(L,C)\n",
    "    P_post = dot(dot(P_int,P_prior),P_int.T) + dot(K,R*K.T)\n",
    "    \n",
    "    #add new information to history\n",
    "    Z = np.append(Z,z,axis=1)\n",
    "    Z_post = np.append(Z_post,z_post,axis=1)\n",
    "    U = np.append(U,u)\n",
    "    Y = np.append(Y,y)"
   ]
  },
  {
   "cell_type": "code",
   "execution_count": null,
   "metadata": {
    "collapsed": true
   },
   "outputs": [],
   "source": [
    "# Initialise PDMM Graph\n",
    "\n",
    "Q_inv = 1/Q\n",
    "R_int = dot(C.T,(C/R))\n",
    "P_inv = linalg.inv(P_init)\n",
    "\n",
    "N_dim = 3\n",
    "msg_dim = 2\n",
    "p = 5e-2\n",
    "d = 1e-16\n",
    "N_max = 1e4\n",
    "\n",
    "E = np.block([[Q_inv,np.zeros([1,2])],[np.zeros([2,1]),R_int]])\n",
    "E_0 = np.block([[Q_inv,np.zeros([1,2])],[np.zeros([2,1]),R_int + P_inv]]) \n",
    "#consider funniness introduced by degenerate Q value and pseudoinverses\n",
    "a_0 = np.block([[np.zeros([1,2])],[dot(Y[0],C/R).T]])\n",
    "\n",
    "G = [ChainNode(0,N_dim,E,a_0,p,d,N_max)] \n",
    "\n",
    "#initialise nodes\n",
    "for i in np.arange(N-1)+1:\n",
    "    a_i = np.block([[np.zeros([1,2])],[dot(Y[i],C/R).T]])\n",
    "    G.append(ChainNode(i,N_dim,E,a_i,p,d,N_max))\n",
    "\n",
    "c_ij = np.zeros([2,1]) \n",
    "    \n",
    "#insert forward neighbours\n",
    "A_forward = np.block([-B,-A])\n",
    "for i in np.arange(N-1):\n",
    "    P_ij = dot(A_forward,dot(linalg.inv(G[i].E),A_forward.T))\n",
    "    neighbour = Neighbour(G[i+1],i+1,A_forward,c_ij,P_ij,msg_dim)\n",
    "    G[i].Neighbours.append(neighbour)\n",
    "\n",
    "#insert backward neighbours \n",
    "A_backward = np.block([np.zeros([2,1]),np.eye(2)])\n",
    "for i in np.arange(N-1)+1:\n",
    "    P_ij = dot(A_backward,dot(linalg.inv(G[i].E),A_backward.T))\n",
    "    neighbour = Neighbour(G[i-1],i-1,A_backward,c_ij,P_ij,msg_dim)\n",
    "    G[i].Neighbours.append(neighbour)\n",
    "    "
   ]
  },
  {
   "cell_type": "code",
   "execution_count": null,
   "metadata": {
    "scrolled": true
   },
   "outputs": [],
   "source": [
    "# Run Synchronous PDMM\n",
    "X = []\n",
    "x = []\n",
    "for node in G:\n",
    "    x.append(node.x)\n",
    "X.append(x)\n",
    "\n",
    "N_iter = 0\n",
    "for i in range(N_iter):\n",
    "    print(i)\n",
    "    for node in G:\n",
    "        node.update()\n",
    "\n",
    "    for node in G:\n",
    "        node.finalise()\n",
    "    \n",
    "    x = []\n",
    "    for node in G:\n",
    "        x.append(node.x)\n",
    "    X.append(x)"
   ]
  },
  {
   "cell_type": "code",
   "execution_count": null,
   "metadata": {
    "collapsed": true
   },
   "outputs": [],
   "source": [
    "#collect messages\n",
    "Z_pdmm = []\n",
    "for i in range(N):\n",
    "    Z_pdmm.append(G[i].Neighbours[0].m_ij)\n",
    "Z_pdmm = np.asarray(Z_pdmm).reshape(N,2)"
   ]
  },
  {
   "cell_type": "code",
   "execution_count": null,
   "metadata": {},
   "outputs": [],
   "source": [
    "X = np.asarray(X).reshape([N_iter+1,N,N_dim])"
   ]
  },
  {
   "cell_type": "code",
   "execution_count": null,
   "metadata": {},
   "outputs": [],
   "source": [
    "plt.figure(figsize=(15,10))\n",
    "plt.plot(Z[0,:],'x-')\n",
    "plt.plot(Z_post[0,:],'x-')"
   ]
  },
  {
   "cell_type": "code",
   "execution_count": null,
   "metadata": {},
   "outputs": [],
   "source": [
    "for j in range(3):\n",
    "    plt.figure(figsize=(7,5))\n",
    "    for i in range(3):\n",
    "        plt.plot(X[:,j,i],'x-')\n",
    "        plt.plot((N_iter+1)*[Z[0,j]])\n",
    "        plt.plot((N_iter+1)*[Z[1,j]])"
   ]
  }
 ],
 "metadata": {
  "kernelspec": {
   "display_name": "Python 3",
   "language": "python",
   "name": "python3"
  },
  "language_info": {
   "codemirror_mode": {
    "name": "ipython",
    "version": 3
   },
   "file_extension": ".py",
   "mimetype": "text/x-python",
   "name": "python",
   "nbconvert_exporter": "python",
   "pygments_lexer": "ipython3",
   "version": "3.6.1"
  }
 },
 "nbformat": 4,
 "nbformat_minor": 2
}
