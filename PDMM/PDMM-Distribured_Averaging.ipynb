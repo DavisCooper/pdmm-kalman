{
 "cells": [
  {
   "cell_type": "code",
   "execution_count": null,
   "metadata": {
    "collapsed": true
   },
   "outputs": [],
   "source": [
    "import autograd.numpy as np\n",
    "from autograd.numpy.random import multivariate_normal, normal\n",
    "%matplotlib inline\n",
    "from matplotlib import pyplot as plt\n",
    "from Node import Node\n",
    "from Neighbour import Neighbour "
   ]
  },
  {
   "cell_type": "code",
   "execution_count": null,
   "metadata": {
    "collapsed": true
   },
   "outputs": [],
   "source": [
    "def f(t):\n",
    "    return lambda x: np.power(x-t,2)"
   ]
  },
  {
   "cell_type": "code",
   "execution_count": null,
   "metadata": {
    "collapsed": true
   },
   "outputs": [],
   "source": [
    "# Initialise PDMM Graph\n",
    "\n",
    "N_nodes = 5;\n",
    "N_dim = 1\n",
    "msg_dim = 1\n",
    "\n",
    "G = []\n",
    "t = normal(0,1,[N_nodes])\n",
    "d_T = 1e-15\n",
    "p = 5e-3\n",
    "\n",
    "#initialise nodes\n",
    "for i in np.arange(N_nodes):\n",
    "    G.append(Node(i,N_dim,f(t[i]),p,d_T))\n",
    "\n",
    "#insert forward neighbours\n",
    "A_forward = 1\n",
    "A_backward = -1\n",
    "c_ij = 0\n",
    "P_ij = 1\n",
    "for i in np.arange(N_nodes-1):\n",
    "    neighbour = Neighbour(G[i+1],i+1,A_forward,c_ij,P_ij,msg_dim)\n",
    "    G[i].Neighbours.append(neighbour)\n",
    "\n",
    "#insert backward neighbours \n",
    "for i in np.arange(N_nodes-1)+1:\n",
    "    neighbour = Neighbour(G[i-1],i-1,A_backward,c_ij,P_ij,msg_dim)\n",
    "    G[i].Neighbours.append(neighbour)\n",
    "    "
   ]
  },
  {
   "cell_type": "code",
   "execution_count": null,
   "metadata": {
    "collapsed": true,
    "scrolled": true
   },
   "outputs": [],
   "source": [
    "X = []\n",
    "x = []\n",
    "X.append(x)\n",
    "\n",
    "for node in G:\n",
    "    x.append(node.x[0,0])\n",
    "\n",
    "N_iter = 20\n",
    "for i in range(N_iter):\n",
    "    x = []\n",
    "    print(i)\n",
    "    for node in G:\n",
    "        node.update()\n",
    "\n",
    "    for node in G:\n",
    "        node.finalise()\n",
    "    \n",
    "    for node in G:\n",
    "        x.append(node.x[0,0])\n",
    "    X.append(x)"
   ]
  },
  {
   "cell_type": "code",
   "execution_count": null,
   "metadata": {
    "collapsed": true
   },
   "outputs": [],
   "source": [
    "averages = np.asarray(X)\n",
    "plt.figure(figsize=(15,10))\n",
    "plt.xlabel('Iteration',size=20)\n",
    "plt.ylabel('i-th average',size=20)\n",
    "plt.title('Chain graph distributed average',size=25)\n",
    "plt.plot(averages)\n",
    "plt.plot(N_iter*[np.mean(t)],'--')"
   ]
  }
 ],
 "metadata": {
  "kernelspec": {
   "display_name": "Python 3",
   "language": "python",
   "name": "python3"
  },
  "language_info": {
   "codemirror_mode": {
    "name": "ipython",
    "version": 3
   },
   "file_extension": ".py",
   "mimetype": "text/x-python",
   "name": "python",
   "nbconvert_exporter": "python",
   "pygments_lexer": "ipython3",
   "version": "3.6.1"
  }
 },
 "nbformat": 4,
 "nbformat_minor": 2
}
