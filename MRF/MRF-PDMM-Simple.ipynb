{
 "cells": [
  {
   "cell_type": "code",
   "execution_count": null,
   "metadata": {},
   "outputs": [],
   "source": [
    "# This notebook takes samples from a multivariate normal distribution \n",
    "# and fits the correct parameters via PDMM in a distributed fashion.\n",
    "import autograd.numpy as np\n",
    "from autograd.numpy.random import multivariate_normal, normal, randint\n",
    "%matplotlib inline\n",
    "from matplotlib import pyplot as plt\n",
    "from MRF_Node import Node\n",
    "from Neighbour import Neighbour "
   ]
  },
  {
   "cell_type": "code",
   "execution_count": null,
   "metadata": {
    "collapsed": true
   },
   "outputs": [],
   "source": [
    "# This function returns a local objective function for a particular set of samples.\n",
    "# The function is iteratively defined for flexibility\n",
    "def f(x_i,x_j,var):\n",
    "    x = zip(x_i,x_j)\n",
    "    f = lambda a,b,c: 0\n",
    "    for i,j in x:\n",
    "        f = lambda a,b,c,f=f: (np.power(i-a,2) + (c/2)*(i-a)*(j-b))/(2*var) + f(a,b,c)\n",
    "    return f"
   ]
  },
  {
   "cell_type": "code",
   "execution_count": null,
   "metadata": {},
   "outputs": [],
   "source": [
    "#Initialise parameters\n",
    "u = np.asarray([1,1])\n",
    "E = np.asarray([[1,0.1],[0.1,1]])\n",
    "n = 1000\n",
    "n_sample = 10\n",
    "x = multivariate_normal(u,E,n).T"
   ]
  },
  {
   "cell_type": "code",
   "execution_count": null,
   "metadata": {},
   "outputs": [],
   "source": [
    "# Initialise PDMM Graph\n",
    "\n",
    "N_nodes = 2;\n",
    "N_dim = 3\n",
    "msg_dim = 3\n",
    "\n",
    "G = []\n",
    "var = 1\n",
    "sample_index = randint(n,size=n_sample)\n",
    "x_s = x[:,sample_index]\n",
    "d_T = 1e-15\n",
    "p = 1e-5\n",
    "\n",
    "#initialise nodes\n",
    "\n",
    "obj = f(x_s[0],x_s[1],var)\n",
    "G.append(Node(0,N_dim,obj,p,d_T))\n",
    "obj = f(x_s[1],x_s[0],var)\n",
    "G.append(Node(1,N_dim,obj,p,d_T))\n",
    "\n",
    "#insert forward neighbours\n",
    "A_forward = np.asarray([[0,1,0],[1,0,0],[0,0,1]])\n",
    "A_backward = -np.eye(N_dim)\n",
    "c_ij = np.zeros([N_dim,1])\n",
    "P_ij = 0.1*np.eye(N_dim)\n",
    "\n",
    "for i in np.arange(N_nodes-1):\n",
    "    neighbour = Neighbour(G[i+1],i+1,A_forward,c_ij,P_ij,msg_dim)\n",
    "    G[i].Neighbours.append(neighbour)\n",
    "\n",
    "#insert backward neighbours \n",
    "for i in np.arange(N_nodes-1)+1:\n",
    "    neighbour = Neighbour(G[i-1],i-1,A_backward,c_ij,P_ij,msg_dim)\n",
    "    G[i].Neighbours.append(neighbour)"
   ]
  },
  {
   "cell_type": "code",
   "execution_count": null,
   "metadata": {},
   "outputs": [],
   "source": [
    "#Train\n",
    "for i in range(10):\n",
    "    sample_index = randint(n,size=n_sample)\n",
    "    x_s = x[:,sample_index]\n",
    "\n",
    "    obj = f(x_s[0],x_s[1],var)\n",
    "    G[1].f= obj\n",
    "    obj = f(x_s[1],x_s[0],var)\n",
    "    G[1].f= obj\n",
    "\n",
    "    for node in G:\n",
    "        node.update()\n",
    "        \n",
    "    for node in G:\n",
    "        node.finalise()\n",
    "    print(i)"
   ]
  }
 ],
 "metadata": {
  "kernelspec": {
   "display_name": "Python 3",
   "language": "python",
   "name": "python3"
  },
  "language_info": {
   "codemirror_mode": {
    "name": "ipython",
    "version": 3
   },
   "file_extension": ".py",
   "mimetype": "text/x-python",
   "name": "python",
   "nbconvert_exporter": "python",
   "pygments_lexer": "ipython3",
   "version": "3.6.1"
  }
 },
 "nbformat": 4,
 "nbformat_minor": 2
}
