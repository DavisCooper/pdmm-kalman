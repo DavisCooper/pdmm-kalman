{
 "cells": [
  {
   "cell_type": "code",
   "execution_count": 32,
   "metadata": {
    "collapsed": true
   },
   "outputs": [],
   "source": [
    "# This notebook takes samples from a multivariate normal distribution \n",
    "# and fits the correct parameters via PDMM in a distributed fashion.\n",
    "import autograd.numpy as np\n",
    "from autograd.numpy.random import multivariate_normal, normal, randint\n",
    "%matplotlib inline\n",
    "from matplotlib import pyplot as plt\n",
    "from MRF_Node import Node\n",
    "from Neighbour import Neighbour "
   ]
  },
  {
   "cell_type": "code",
   "execution_count": 33,
   "metadata": {
    "collapsed": true
   },
   "outputs": [],
   "source": [
    "# This function returns a local objective function for a particular set of samples.\n",
    "def f(x_i,x_j,var):\n",
    "    return lambda a,b,c: np.sum(np.power(x_i-a,2) + c*(x_i-a)*(x_j-b)/(2*var)) - np.log(1-np.power(c,2))/4"
   ]
  },
  {
   "cell_type": "code",
   "execution_count": 34,
   "metadata": {},
   "outputs": [],
   "source": [
    "def g(x):\n",
    "    if x>=1:\n",
    "        return 1 - 1e-10\n",
    "    if x<=-1:\n",
    "        return -1 + 1e-10\n",
    "    else:\n",
    "        return x"
   ]
  },
  {
   "cell_type": "code",
   "execution_count": 35,
   "metadata": {
    "collapsed": true
   },
   "outputs": [],
   "source": [
    "#Initialise parameters\n",
    "u = np.asarray([1,1])\n",
    "E = np.asarray([[1,0.5],[0.5,1]])\n",
    "n = 1000\n",
    "n_sample = 100\n",
    "x = multivariate_normal(u,E,n).T"
   ]
  },
  {
   "cell_type": "code",
   "execution_count": null,
   "metadata": {},
   "outputs": [],
   "source": [
    "# Initialise PDMM Graph\n",
    "\n",
    "N_nodes = 2;\n",
    "N_dim = 3\n",
    "msg_dim = 3\n",
    "\n",
    "G = []\n",
    "var = 1\n",
    "sample_index = randint(n,size=n_sample)\n",
    "x_s = x[:,sample_index]\n",
    "d_T = 1e-15\n",
    "p = 1e-5\n",
    "\n",
    "c = {2:[-0.99,0.99]}\n",
    "\n",
    "#initialise nodes\n",
    "\n",
    "obj = f(x_s[0],x_s[1],var)\n",
    "G.append(Node(0,N_dim,obj,p,d_T,c))\n",
    "obj = f(x_s[1],x_s[0],var)\n",
    "G.append(Node(1,N_dim,obj,p,d_T,c))\n",
    "\n",
    "#insert forward neighbours\n",
    "A_forward = np.asarray([[0,1,0],[1,0,0],[0,0,1]])\n",
    "A_backward = -np.eye(N_dim)\n",
    "c_ij = np.zeros([N_dim,1])\n",
    "P_ij = np.eye(N_dim)\n",
    "\n",
    "for i in np.arange(N_nodes-1):\n",
    "    neighbour = Neighbour(G[i+1],i+1,A_forward,c_ij,P_ij,msg_dim)\n",
    "    G[i].Neighbours.append(neighbour)\n",
    "\n",
    "#insert backward neighbours \n",
    "for i in np.arange(N_nodes-1)+1:\n",
    "    neighbour = Neighbour(G[i-1],i-1,A_backward,c_ij,P_ij,msg_dim)\n",
    "    G[i].Neighbours.append(neighbour)"
   ]
  },
  {
   "cell_type": "code",
   "execution_count": null,
   "metadata": {},
   "outputs": [
    {
     "name": "stdout",
     "output_type": "stream",
     "text": [
      "5000 0.00178012873136\n",
      "5000 0.00269785828582\n",
      "0\n",
      "[[ 0.24319903]\n",
      " [-2.84632638]\n",
      " [-0.99      ]]\n",
      "[[-0.10879591]\n",
      " [-3.62151513]\n",
      " [-0.99      ]]\n",
      "5000 0.00528388868361\n",
      "5000 0.00767963605246\n",
      "1\n",
      "[[-0.55896828]\n",
      " [-5.63666563]\n",
      " [-0.99      ]]\n",
      "[[-0.93172533]\n",
      " [-6.97870687]\n",
      " [-0.99      ]]\n",
      "5000 0.0145879575357\n",
      "5000 0.0215542214421\n",
      "2\n",
      "[[ -1.61640063]\n",
      " [-10.14119745]\n",
      " [ -0.99      ]]\n",
      "[[ -2.35432485]\n",
      " [-12.40488204]\n",
      " [ -0.99      ]]\n",
      "5000 0.0434975039645\n"
     ]
    }
   ],
   "source": [
    "#Train\n",
    "for i in range(10):\n",
    "    sample_index = randint(n,size=n_sample)\n",
    "    x_s = x[:,sample_index]\n",
    "\n",
    "    obj = f(x_s[0],x_s[1],var)\n",
    "    G[0].f= obj\n",
    "    obj = f(x_s[1],x_s[0],var)\n",
    "    G[1].f= obj\n",
    "\n",
    "    for node in G:\n",
    "        node.update()\n",
    "        \n",
    "    for node in G:\n",
    "        node.finalise()\n",
    "        \n",
    "    print(i)\n",
    "    print(G[0].x)\n",
    "    print(G[1].x)"
   ]
  }
 ],
 "metadata": {
  "kernelspec": {
   "display_name": "Python 3",
   "language": "python",
   "name": "python3"
  },
  "language_info": {
   "codemirror_mode": {
    "name": "ipython",
    "version": 3
   },
   "file_extension": ".py",
   "mimetype": "text/x-python",
   "name": "python",
   "nbconvert_exporter": "python",
   "pygments_lexer": "ipython3",
   "version": "3.6.1"
  }
 },
 "nbformat": 4,
 "nbformat_minor": 2
}
